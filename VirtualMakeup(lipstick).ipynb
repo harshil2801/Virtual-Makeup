{
 "cells": [
  {
   "cell_type": "code",
   "execution_count": 1,
   "id": "solved-coupon",
   "metadata": {},
   "outputs": [],
   "source": [
    "import dlib\n",
    "import cv2\n",
    "import numpy as np\n",
    "\n",
    "#shape_predictor_68_face_landmarks.dat"
   ]
  },
  {
   "cell_type": "code",
   "execution_count": 2,
   "id": "modular-meter",
   "metadata": {},
   "outputs": [
    {
     "data": {
      "text/plain": [
       "True"
      ]
     },
     "execution_count": 2,
     "metadata": {},
     "output_type": "execute_result"
    }
   ],
   "source": [
    "cap = cv2.VideoCapture(0)\n",
    "cap.set(3,720)\n",
    "cap.set(4,1020)"
   ]
  },
  {
   "cell_type": "code",
   "execution_count": 3,
   "id": "comparable-diamond",
   "metadata": {},
   "outputs": [],
   "source": [
    "detector = dlib.get_frontal_face_detector()\n",
    "predictor = dlib.shape_predictor(\"shape_predictor_68_face_landmarks.dat\")"
   ]
  },
  {
   "cell_type": "code",
   "execution_count": 4,
   "id": "desperate-grounds",
   "metadata": {},
   "outputs": [],
   "source": [
    "def empty(a):\n",
    "    pass"
   ]
  },
  {
   "cell_type": "code",
   "execution_count": 5,
   "id": "unusual-label",
   "metadata": {},
   "outputs": [],
   "source": [
    "cv2.namedWindow('BGR')\n",
    "cv2.resizeWindow('BGR',640,240)\n",
    "cv2.createTrackbar('Blue','BGR',0,255,empty)\n",
    "cv2.createTrackbar('Green','BGR',0,255,empty)\n",
    "cv2.createTrackbar('Red','BGR',0,255,empty)"
   ]
  },
  {
   "cell_type": "code",
   "execution_count": 6,
   "id": "assigned-elimination",
   "metadata": {},
   "outputs": [],
   "source": [
    "def createBox(img,points,scale=5,masked=False,cropped = True):\n",
    "    if masked:\n",
    "        mask = np.zeros_like(img)\n",
    "        mask = cv2.fillPoly(mask,[points],(255,255,255))\n",
    "        img = cv2.bitwise_and(img,mask)\n",
    "\n",
    "    if cropped:\n",
    "        bbox = cv2.boundingRect(points)\n",
    "        x,y,w,h = bbox\n",
    "        imgCrop = img[y:y+h,x:x+w]\n",
    "        imgCrop = cv2.resize(imgCrop,(0,0),None,scale,scale)\n",
    "        return imgCrop\n",
    "    else:\n",
    "        return mask"
   ]
  },
  {
   "cell_type": "code",
   "execution_count": 7,
   "id": "expanded-sleep",
   "metadata": {},
   "outputs": [],
   "source": [
    "while True:\n",
    "    success, img = cap.read()\n",
    "    img = cv2.resize(img,(0,0),None,1,1)\n",
    "    imgOriginal = img.copy()\n",
    "    imgGray = cv2.cvtColor(img, cv2.COLOR_BGR2GRAY)\n",
    "    faces = detector(imgGray)\n",
    "    \n",
    "    for face in faces:\n",
    "        x1,y1 = face.left(),face.top()\n",
    "        x2,y2 = face.right(),face.bottom()\n",
    "        landmarks = predictor(imgGray,face)\n",
    "        myPoints =[]\n",
    "        for n in range(68):\n",
    "            x = landmarks.part(n).x\n",
    "            y = landmarks.part(n).y\n",
    "            myPoints.append([x,y])\n",
    "        myPoints = np.array(myPoints)\n",
    "        \n",
    "        imgLips = createBox(img,myPoints[48:61],8,masked=True,cropped=False)\n",
    "\n",
    "        imgColorLips = np.zeros_like(imgLips)\n",
    "        b = cv2.getTrackbarPos('Blue','BGR')\n",
    "        g = cv2.getTrackbarPos('Green','BGR')\n",
    "        r = cv2.getTrackbarPos('Red','BGR')\n",
    "        imgColorLips[:] = b,g,r\n",
    "        imgColorLips = cv2.bitwise_and(imgLips,imgColorLips)\n",
    "        imgColorLips = cv2.GaussianBlur(imgColorLips,(7,7),10)\n",
    "        \n",
    "        imgColorLips = cv2.addWeighted(imgOriginal,1,imgColorLips,0.4,0)\n",
    "        \n",
    "        cv2.imshow('BGR',imgColorLips)\n",
    "\n",
    "    if cv2.waitKey(1) == ord('q'):\n",
    "        break"
   ]
  },
  {
   "cell_type": "code",
   "execution_count": null,
   "id": "naval-prevention",
   "metadata": {},
   "outputs": [],
   "source": []
  }
 ],
 "metadata": {
  "kernelspec": {
   "display_name": "Python 3",
   "language": "python",
   "name": "python3"
  },
  "language_info": {
   "codemirror_mode": {
    "name": "ipython",
    "version": 3
   },
   "file_extension": ".py",
   "mimetype": "text/x-python",
   "name": "python",
   "nbconvert_exporter": "python",
   "pygments_lexer": "ipython3",
   "version": "3.7.9"
  }
 },
 "nbformat": 4,
 "nbformat_minor": 5
}
